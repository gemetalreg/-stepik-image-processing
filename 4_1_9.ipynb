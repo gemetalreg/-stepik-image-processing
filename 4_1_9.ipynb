{
 "cells": [
  {
   "cell_type": "code",
   "execution_count": 182,
   "metadata": {},
   "outputs": [],
   "source": [
    "%matplotlib inline"
   ]
  },
  {
   "cell_type": "code",
   "execution_count": 183,
   "metadata": {},
   "outputs": [],
   "source": [
    "import numpy as np"
   ]
  },
  {
   "cell_type": "code",
   "execution_count": 184,
   "metadata": {},
   "outputs": [],
   "source": [
    "sigma = 0.33"
   ]
  },
  {
   "cell_type": "code",
   "execution_count": 185,
   "metadata": {},
   "outputs": [],
   "source": [
    "def gauss(sigma, x, y):\n",
    "   sigma_sq =  sigma ** 2\n",
    "   return np.exp((-x**2-y**2)/(2*sigma_sq))/(2*np.pi*sigma_sq)"
   ]
  },
  {
   "cell_type": "code",
   "execution_count": 186,
   "metadata": {},
   "outputs": [],
   "source": [
    "def gauss_kernel(sigma):\n",
    "    k = round(sigma * 3)\n",
    "    size = 2 * k + 1\n",
    "    arr1d = [(i, j) for j in range(k, -k - 1, -1) for i in range(-k, k + 1)]\n",
    "    gauss1d = [gauss(sigma, el[0], el[1]) for el in arr1d]\n",
    "    s = sum(gauss1d)\n",
    "    gauss1d = [round(el / s, 5) for el in gauss1d]\n",
    "    kernel = np.array(gauss1d).reshape((size, size))\n",
    "    return kernel"
   ]
  },
  {
   "cell_type": "code",
   "execution_count": 187,
   "metadata": {},
   "outputs": [],
   "source": [
    "kernel = gauss_kernel(sigma)"
   ]
  },
  {
   "cell_type": "code",
   "execution_count": 193,
   "metadata": {},
   "outputs": [
    {
     "name": "stdout",
     "output_type": "stream",
     "text": [
      "0.00010 0.00974 0.00010 \n",
      "0.00974 0.96065 0.00974 \n",
      "0.00010 0.00974 0.00010 \n"
     ]
    }
   ],
   "source": [
    "for row in kernel:\n",
    "    for el in row:\n",
    "        print(\"%.5f\" % el, end=\" \")\n",
    "    print()"
   ]
  }
 ],
 "metadata": {
  "kernelspec": {
   "display_name": ".venv",
   "language": "python",
   "name": "python3"
  },
  "language_info": {
   "codemirror_mode": {
    "name": "ipython",
    "version": 3
   },
   "file_extension": ".py",
   "mimetype": "text/x-python",
   "name": "python",
   "nbconvert_exporter": "python",
   "pygments_lexer": "ipython3",
   "version": "3.11.1"
  },
  "orig_nbformat": 4,
  "vscode": {
   "interpreter": {
    "hash": "ccd87055235225c52d30cfff211d538305cf32086e15970bd654752c4c718df7"
   }
  }
 },
 "nbformat": 4,
 "nbformat_minor": 2
}
