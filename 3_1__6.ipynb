{
 "cells": [
  {
   "cell_type": "code",
   "execution_count": 37,
   "metadata": {},
   "outputs": [],
   "source": [
    "%matplotlib inline"
   ]
  },
  {
   "cell_type": "code",
   "execution_count": null,
   "metadata": {},
   "outputs": [],
   "source": [
    "from skimage.io import imread, imsave\n",
    "import numpy as np\n",
    "\n",
    "def get_min_max(img):\n",
    "    flat_data = np.sort(img, axis=None)\n",
    "\n",
    "    n = flat_data.size\n",
    "\n",
    "    k = round(n * 0.05)\n",
    "\n",
    "    cut_flat_data = flat_data[k:(n - k)]\n",
    "    \n",
    "    return np.min(cut_flat_data), np.max(cut_flat_data)\n",
    "\n",
    "\n",
    "img = imread(\"img.png\")\n",
    "\n",
    "xmin, xmax = get_min_max(img)\n",
    "\n",
    "img = img.astype('float')\n",
    "\n",
    "img = ((img - xmin) * 255.0) / (xmax - xmin)\n",
    "\n",
    "img = np.clip(img, 0, 255)\n",
    "\n",
    "img = img.astype('uint8')\n",
    "\n",
    "imsave(\"out_img.png\", img)\n"
   ]
  }
 ],
 "metadata": {
  "kernelspec": {
   "display_name": ".venv",
   "language": "python",
   "name": "python3"
  },
  "language_info": {
   "codemirror_mode": {
    "name": "ipython",
    "version": 3
   },
   "file_extension": ".py",
   "mimetype": "text/x-python",
   "name": "python",
   "nbconvert_exporter": "python",
   "pygments_lexer": "ipython3",
   "version": "3.11.1 (v3.11.1:a7a450f84a, Dec  6 2022, 15:24:06) [Clang 13.0.0 (clang-1300.0.29.30)]"
  },
  "orig_nbformat": 4,
  "vscode": {
   "interpreter": {
    "hash": "ccd87055235225c52d30cfff211d538305cf32086e15970bd654752c4c718df7"
   }
  }
 },
 "nbformat": 4,
 "nbformat_minor": 2
}
